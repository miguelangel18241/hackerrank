{
  "nbformat": 4,
  "nbformat_minor": 0,
  "metadata": {
    "colab": {
      "provenance": [],
      "authorship_tag": "ABX9TyNAfstutD3vi/sQgQ2Wm0ba",
      "include_colab_link": true
    },
    "kernelspec": {
      "name": "python3",
      "display_name": "Python 3"
    },
    "language_info": {
      "name": "python"
    }
  },
  "cells": [
    {
      "cell_type": "markdown",
      "metadata": {
        "id": "view-in-github",
        "colab_type": "text"
      },
      "source": [
        "<a href=\"https://colab.research.google.com/github/miguelangel18241/hackerrank/blob/main/staircase.ipynb\" target=\"_parent\"><img src=\"https://colab.research.google.com/assets/colab-badge.svg\" alt=\"Open In Colab\"/></a>"
      ]
    },
    {
      "cell_type": "code",
      "execution_count": 8,
      "metadata": {
        "colab": {
          "base_uri": "https://localhost:8080/"
        },
        "id": "ME62XEVO5JSO",
        "outputId": "38bd2e0c-ee5f-4edd-85f2-9d3189348599"
      },
      "outputs": [
        {
          "output_type": "stream",
          "name": "stdout",
          "text": [
            "         #\n",
            "        ##\n",
            "       ###\n",
            "      ####\n",
            "     #####\n",
            "    ######\n",
            "   #######\n",
            "  ########\n",
            " #########\n",
            "aa\n"
          ]
        }
      ],
      "source": [
        "def staircase(n):\n",
        "  for i in range(1,n):\n",
        "    staircase = \"#\" * i\n",
        "    print(staircase.rjust(n))\n",
        "\n",
        "n = 10\n",
        "staircase(n)\n",
        "\n",
        "print(\"a\" * 2)\n"
      ]
    },
    {
      "cell_type": "code",
      "source": [
        "def staircase(n):\n",
        "  for i in range(1,(n//2)):\n",
        "    staircase = \"#\" * i\n",
        "    print(staircase.rjust(n))\n",
        "  for i in range((n//2),0,-1):\n",
        "    staircase = \"#\" * i\n",
        "    print(staircase.rjust(n))\n",
        "\n",
        "\n",
        "n = 10\n",
        "staircase(n)\n"
      ],
      "metadata": {
        "colab": {
          "base_uri": "https://localhost:8080/"
        },
        "id": "CK7OUdzyhnJE",
        "outputId": "c83c405e-15e5-4db6-a0d2-1014df869cf9"
      },
      "execution_count": 27,
      "outputs": [
        {
          "output_type": "stream",
          "name": "stdout",
          "text": [
            "         #\n",
            "        ##\n",
            "       ###\n",
            "      ####\n",
            "     #####\n",
            "      ####\n",
            "       ###\n",
            "        ##\n",
            "         #\n"
          ]
        }
      ]
    },
    {
      "cell_type": "code",
      "source": [
        "print(15 // 8)  # Output: 2\n",
        "print(15 // 7)  # Output: 2\n",
        "print(15 // 6)  # Output: 2\n",
        "print(21 // 8)\n"
      ],
      "metadata": {
        "colab": {
          "base_uri": "https://localhost:8080/"
        },
        "id": "0H3raaI-kB04",
        "outputId": "658beb48-a4b9-43b4-9bdf-2a84a3690bdc"
      },
      "execution_count": 18,
      "outputs": [
        {
          "output_type": "stream",
          "name": "stdout",
          "text": [
            "1\n",
            "2\n",
            "2\n",
            "2\n"
          ]
        }
      ]
    }
  ]
}