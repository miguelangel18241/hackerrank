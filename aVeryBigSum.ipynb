{
  "nbformat": 4,
  "nbformat_minor": 0,
  "metadata": {
    "colab": {
      "provenance": [],
      "authorship_tag": "ABX9TyN7khXB2kS6rVvuRihKQSc1",
      "include_colab_link": true
    },
    "kernelspec": {
      "name": "python3",
      "display_name": "Python 3"
    },
    "language_info": {
      "name": "python"
    }
  },
  "cells": [
    {
      "cell_type": "markdown",
      "metadata": {
        "id": "view-in-github",
        "colab_type": "text"
      },
      "source": [
        "<a href=\"https://colab.research.google.com/github/miguelangel18241/hackerrank/blob/main/aVeryBigSum.ipynb\" target=\"_parent\"><img src=\"https://colab.research.google.com/assets/colab-badge.svg\" alt=\"Open In Colab\"/></a>"
      ]
    },
    {
      "cell_type": "code",
      "execution_count": null,
      "metadata": {
        "id": "1PG4Vqt6ymwu"
      },
      "outputs": [],
      "source": [
        "#Func to sum all the arrays in a big array of # n\n",
        "def aVeryBigSum(ar):\n",
        "  sum = 0\n",
        "  array = ar\n",
        "  for i in range(len(ar)):\n",
        "    sum += array[i]\n",
        "  return sum\n",
        "\n",
        "\n",
        "\n"
      ]
    }
  ]
}