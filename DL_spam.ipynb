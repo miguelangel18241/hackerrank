{
  "nbformat": 4,
  "nbformat_minor": 0,
  "metadata": {
    "colab": {
      "provenance": [],
      "authorship_tag": "ABX9TyOebpVl9CnXAMgGO3xXoO4Q",
      "include_colab_link": true
    },
    "kernelspec": {
      "name": "python3",
      "display_name": "Python 3"
    },
    "language_info": {
      "name": "python"
    }
  },
  "cells": [
    {
      "cell_type": "markdown",
      "metadata": {
        "id": "view-in-github",
        "colab_type": "text"
      },
      "source": [
        "<a href=\"https://colab.research.google.com/github/miguelangel18241/hackerrank/blob/main/DL_spam.ipynb\" target=\"_parent\"><img src=\"https://colab.research.google.com/assets/colab-badge.svg\" alt=\"Open In Colab\"/></a>"
      ]
    },
    {
      "cell_type": "code",
      "execution_count": 2,
      "metadata": {
        "id": "uv0c2QNypB0X"
      },
      "outputs": [],
      "source": [
        "import numpy as np\n",
        "from tensorflow.keras.models import Sequential\n",
        "from tensorflow.keras.layers import Dense\n",
        "\n"
      ]
    },
    {
      "cell_type": "code",
      "source": [
        "#Example of Feature Vectors (Emails)\n",
        "#Each Email Is Represented as [keyword_freq, num_links, sender_reputation]\n",
        "emails = np.array([\n",
        "    [5,2,1], #Spam email example\n",
        "    [1, 0, 0],  # Not spam email example\n",
        "    [4, 3, 1],  # Spam email example\n",
        "    [0, 0, 0],  # Not spam email example\n",
        "    [3, 1, 1],  # Spam email example\n",
        "])"
      ],
      "metadata": {
        "id": "nL8VdTMbwklc"
      },
      "execution_count": 3,
      "outputs": []
    },
    {
      "cell_type": "code",
      "source": [
        "#1 Spam 0 No_Spam\n",
        "labels = np.array([1,0,1,0,1])"
      ],
      "metadata": {
        "id": "lGDMVAJ2xk-y"
      },
      "execution_count": 5,
      "outputs": []
    },
    {
      "cell_type": "code",
      "source": [
        "# Simple NN\n",
        "model = Sequential([\n",
        "    Dense(4, input_dim=3, activation='relu'), #Input layer with 3 neurons for three features\n",
        "    Dense(2, activation='relu'), # Hidden L\n",
        "    Dense(1, activation='sigmoid') # Output L\n",
        "\n",
        "]\n",
        ")\n",
        "\n",
        "#compile Model\n",
        "model.compile(optimizer='adam', loss='binary_crossentropy', metrics=['accuracy'])\n",
        "\n",
        "#train\n",
        "model.fit(emails, labels, epochs=50, verbose=1)\n"
      ],
      "metadata": {
        "colab": {
          "base_uri": "https://localhost:8080/"
        },
        "id": "NuUAiQ2Ax7mB",
        "outputId": "df6a9b72-4c9b-4a8b-a875-78fbbf3a26dd"
      },
      "execution_count": 6,
      "outputs": [
        {
          "output_type": "stream",
          "name": "stdout",
          "text": [
            "Epoch 1/50\n",
            "1/1 [==============================] - 1s 1s/step - loss: 0.7819 - accuracy: 0.4000\n",
            "Epoch 2/50\n",
            "1/1 [==============================] - 0s 13ms/step - loss: 0.7781 - accuracy: 0.0000e+00\n",
            "Epoch 3/50\n",
            "1/1 [==============================] - 0s 17ms/step - loss: 0.7743 - accuracy: 0.0000e+00\n",
            "Epoch 4/50\n",
            "1/1 [==============================] - 0s 16ms/step - loss: 0.7706 - accuracy: 0.0000e+00\n",
            "Epoch 5/50\n",
            "1/1 [==============================] - 0s 14ms/step - loss: 0.7669 - accuracy: 0.0000e+00\n",
            "Epoch 6/50\n",
            "1/1 [==============================] - 0s 11ms/step - loss: 0.7632 - accuracy: 0.0000e+00\n",
            "Epoch 7/50\n",
            "1/1 [==============================] - 0s 12ms/step - loss: 0.7596 - accuracy: 0.0000e+00\n",
            "Epoch 8/50\n",
            "1/1 [==============================] - 0s 13ms/step - loss: 0.7561 - accuracy: 0.0000e+00\n",
            "Epoch 9/50\n",
            "1/1 [==============================] - 0s 11ms/step - loss: 0.7526 - accuracy: 0.0000e+00\n",
            "Epoch 10/50\n",
            "1/1 [==============================] - 0s 11ms/step - loss: 0.7491 - accuracy: 0.0000e+00\n",
            "Epoch 11/50\n",
            "1/1 [==============================] - 0s 12ms/step - loss: 0.7456 - accuracy: 0.0000e+00\n",
            "Epoch 12/50\n",
            "1/1 [==============================] - 0s 12ms/step - loss: 0.7423 - accuracy: 0.2000\n",
            "Epoch 13/50\n",
            "1/1 [==============================] - 0s 11ms/step - loss: 0.7389 - accuracy: 0.2000\n",
            "Epoch 14/50\n",
            "1/1 [==============================] - 0s 11ms/step - loss: 0.7360 - accuracy: 0.2000\n",
            "Epoch 15/50\n",
            "1/1 [==============================] - 0s 11ms/step - loss: 0.7335 - accuracy: 0.2000\n",
            "Epoch 16/50\n",
            "1/1 [==============================] - 0s 12ms/step - loss: 0.7310 - accuracy: 0.2000\n",
            "Epoch 17/50\n",
            "1/1 [==============================] - 0s 12ms/step - loss: 0.7286 - accuracy: 0.2000\n",
            "Epoch 18/50\n",
            "1/1 [==============================] - 0s 12ms/step - loss: 0.7263 - accuracy: 0.2000\n",
            "Epoch 19/50\n",
            "1/1 [==============================] - 0s 11ms/step - loss: 0.7240 - accuracy: 0.2000\n",
            "Epoch 20/50\n",
            "1/1 [==============================] - 0s 11ms/step - loss: 0.7217 - accuracy: 0.2000\n",
            "Epoch 21/50\n",
            "1/1 [==============================] - 0s 15ms/step - loss: 0.7195 - accuracy: 0.2000\n",
            "Epoch 22/50\n",
            "1/1 [==============================] - 0s 13ms/step - loss: 0.7173 - accuracy: 0.2000\n",
            "Epoch 23/50\n",
            "1/1 [==============================] - 0s 12ms/step - loss: 0.7152 - accuracy: 0.4000\n",
            "Epoch 24/50\n",
            "1/1 [==============================] - 0s 14ms/step - loss: 0.7131 - accuracy: 0.4000\n",
            "Epoch 25/50\n",
            "1/1 [==============================] - 0s 11ms/step - loss: 0.7111 - accuracy: 0.4000\n",
            "Epoch 26/50\n",
            "1/1 [==============================] - 0s 11ms/step - loss: 0.7100 - accuracy: 0.4000\n",
            "Epoch 27/50\n",
            "1/1 [==============================] - 0s 14ms/step - loss: 0.7090 - accuracy: 0.4000\n",
            "Epoch 28/50\n",
            "1/1 [==============================] - 0s 16ms/step - loss: 0.7080 - accuracy: 0.4000\n",
            "Epoch 29/50\n",
            "1/1 [==============================] - 0s 13ms/step - loss: 0.7070 - accuracy: 0.4000\n",
            "Epoch 30/50\n",
            "1/1 [==============================] - 0s 16ms/step - loss: 0.7061 - accuracy: 0.4000\n",
            "Epoch 31/50\n",
            "1/1 [==============================] - 0s 18ms/step - loss: 0.7052 - accuracy: 0.4000\n",
            "Epoch 32/50\n",
            "1/1 [==============================] - 0s 14ms/step - loss: 0.7044 - accuracy: 0.4000\n",
            "Epoch 33/50\n",
            "1/1 [==============================] - 0s 14ms/step - loss: 0.7035 - accuracy: 0.4000\n",
            "Epoch 34/50\n",
            "1/1 [==============================] - 0s 16ms/step - loss: 0.7027 - accuracy: 0.4000\n",
            "Epoch 35/50\n",
            "1/1 [==============================] - 0s 13ms/step - loss: 0.7019 - accuracy: 0.4000\n",
            "Epoch 36/50\n",
            "1/1 [==============================] - 0s 17ms/step - loss: 0.7012 - accuracy: 0.4000\n",
            "Epoch 37/50\n",
            "1/1 [==============================] - 0s 14ms/step - loss: 0.7004 - accuracy: 0.4000\n",
            "Epoch 38/50\n",
            "1/1 [==============================] - 0s 14ms/step - loss: 0.6997 - accuracy: 0.4000\n",
            "Epoch 39/50\n",
            "1/1 [==============================] - 0s 15ms/step - loss: 0.6990 - accuracy: 0.4000\n",
            "Epoch 40/50\n",
            "1/1 [==============================] - 0s 12ms/step - loss: 0.6983 - accuracy: 0.4000\n",
            "Epoch 41/50\n",
            "1/1 [==============================] - 0s 11ms/step - loss: 0.6976 - accuracy: 0.4000\n",
            "Epoch 42/50\n",
            "1/1 [==============================] - 0s 14ms/step - loss: 0.6969 - accuracy: 0.4000\n",
            "Epoch 43/50\n",
            "1/1 [==============================] - 0s 13ms/step - loss: 0.6962 - accuracy: 0.4000\n",
            "Epoch 44/50\n",
            "1/1 [==============================] - 0s 16ms/step - loss: 0.6956 - accuracy: 0.4000\n",
            "Epoch 45/50\n",
            "1/1 [==============================] - 0s 18ms/step - loss: 0.6949 - accuracy: 0.4000\n",
            "Epoch 46/50\n",
            "1/1 [==============================] - 0s 11ms/step - loss: 0.6943 - accuracy: 0.4000\n",
            "Epoch 47/50\n",
            "1/1 [==============================] - 0s 13ms/step - loss: 0.6936 - accuracy: 0.4000\n",
            "Epoch 48/50\n",
            "1/1 [==============================] - 0s 13ms/step - loss: 0.6930 - accuracy: 0.6000\n",
            "Epoch 49/50\n",
            "1/1 [==============================] - 0s 20ms/step - loss: 0.6924 - accuracy: 0.6000\n",
            "Epoch 50/50\n",
            "1/1 [==============================] - 0s 18ms/step - loss: 0.6917 - accuracy: 0.6000\n"
          ]
        },
        {
          "output_type": "execute_result",
          "data": {
            "text/plain": [
              "<keras.src.callbacks.History at 0x7d620451d570>"
            ]
          },
          "metadata": {},
          "execution_count": 6
        }
      ]
    },
    {
      "cell_type": "code",
      "source": [
        "#test the model with a new e-mail\n",
        "\n",
        "new_email = np.array([[2,1,0]]) # Example: 2 keyword_freq, 1 num_links, 0 sender_reputation\n",
        "prediction = model.predict(new_email)\n",
        "print(\"Spam probability\", prediction[0][0])"
      ],
      "metadata": {
        "colab": {
          "base_uri": "https://localhost:8080/"
        },
        "id": "mjaDcJU65HmN",
        "outputId": "51de437c-367b-4520-e23c-5d137e4faea7"
      },
      "execution_count": 7,
      "outputs": [
        {
          "output_type": "stream",
          "name": "stdout",
          "text": [
            "1/1 [==============================] - 0s 103ms/step\n",
            "Spam probability 0.51170623\n"
          ]
        }
      ]
    }
  ]
}