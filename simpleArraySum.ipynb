{
  "nbformat": 4,
  "nbformat_minor": 0,
  "metadata": {
    "colab": {
      "provenance": [],
      "authorship_tag": "ABX9TyMjnUa0mDaIRkrNfxCSPvsB",
      "include_colab_link": true
    },
    "kernelspec": {
      "name": "python3",
      "display_name": "Python 3"
    },
    "language_info": {
      "name": "python"
    }
  },
  "cells": [
    {
      "cell_type": "markdown",
      "metadata": {
        "id": "view-in-github",
        "colab_type": "text"
      },
      "source": [
        "<a href=\"https://colab.research.google.com/github/miguelangel18241/hackerrank/blob/main/simpleArraySum.ipynb\" target=\"_parent\"><img src=\"https://colab.research.google.com/assets/colab-badge.svg\" alt=\"Open In Colab\"/></a>"
      ]
    },
    {
      "cell_type": "code",
      "execution_count": 1,
      "metadata": {
        "id": "mIxIjtVLgWSv"
      },
      "outputs": [],
      "source": [
        "import random\n"
      ]
    },
    {
      "cell_type": "code",
      "source": [
        "array = [random.randint(1,10) for _ in range(10)]\n",
        "array\n"
      ],
      "metadata": {
        "colab": {
          "base_uri": "https://localhost:8080/"
        },
        "id": "g8txA7FAjGGx",
        "outputId": "33e6f6fa-d267-4be9-de5b-c42d0a3743b9"
      },
      "execution_count": 2,
      "outputs": [
        {
          "output_type": "execute_result",
          "data": {
            "text/plain": [
              "[8, 8, 10, 4, 7, 9, 3, 9, 2, 4]"
            ]
          },
          "metadata": {},
          "execution_count": 2
        }
      ]
    },
    {
      "cell_type": "code",
      "source": [
        "#print the indices\n",
        "def sum_array(n):\n",
        "  num = 0\n",
        "  for i in range(len(n)):\n",
        "    num += n[i]\n",
        "  return num\n",
        "\n",
        "array = [8, 8, 10, 4, 7, 9, 3, 9, 2, 4]\n",
        "\n",
        "sum_array(array)"
      ],
      "metadata": {
        "colab": {
          "base_uri": "https://localhost:8080/"
        },
        "id": "tFXapVOAkekP",
        "outputId": "19cae124-d2f9-430a-9963-3b20c66e91ce"
      },
      "execution_count": 14,
      "outputs": [
        {
          "output_type": "execute_result",
          "data": {
            "text/plain": [
              "64"
            ]
          },
          "metadata": {},
          "execution_count": 14
        }
      ]
    },
    {
      "cell_type": "code",
      "source": [
        "#print the"
      ],
      "metadata": {
        "id": "wMDJBVTdk14O"
      },
      "execution_count": null,
      "outputs": []
    }
  ]
}