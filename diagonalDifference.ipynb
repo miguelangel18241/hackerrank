{
  "nbformat": 4,
  "nbformat_minor": 0,
  "metadata": {
    "colab": {
      "provenance": [],
      "authorship_tag": "ABX9TyO5cbabzU6lQ0iRQUWBV4HQ",
      "include_colab_link": true
    },
    "kernelspec": {
      "name": "python3",
      "display_name": "Python 3"
    },
    "language_info": {
      "name": "python"
    }
  },
  "cells": [
    {
      "cell_type": "markdown",
      "metadata": {
        "id": "view-in-github",
        "colab_type": "text"
      },
      "source": [
        "<a href=\"https://colab.research.google.com/github/miguelangel18241/hackerrank/blob/main/diagonalDifference.ipynb\" target=\"_parent\"><img src=\"https://colab.research.google.com/assets/colab-badge.svg\" alt=\"Open In Colab\"/></a>"
      ]
    },
    {
      "cell_type": "code",
      "source": [
        "import numpy as np\n",
        "\n",
        "# Generate a 3x3 matrix filled with random integers between 0 and 9\n",
        "random_matrix = np.random.randint(10, size=(3, 3))\n",
        "\n",
        "print(random_matrix)"
      ],
      "metadata": {
        "colab": {
          "base_uri": "https://localhost:8080/"
        },
        "id": "O64tKpnR3qgU",
        "outputId": "a8ec5490-493e-4301-ee8e-f5b275b17817"
      },
      "execution_count": 2,
      "outputs": [
        {
          "output_type": "stream",
          "name": "stdout",
          "text": [
            "[[4 4 0]\n",
            " [6 3 5]\n",
            " [5 1 1]]\n"
          ]
        }
      ]
    },
    {
      "cell_type": "code",
      "source": [
        "def diagonalDifference(x):\n",
        "  sum_lef_to_right = 0\n",
        "  sum_right_to_left = 0\n",
        "  for i in range(len(x)):\n",
        "    sum_lef_to_right += x[i][i]\n",
        "    sum_right_to_left += x[i][len(x)-1-i]\n",
        "  absolute_difference = abs(sum_lef_to_right - sum_right_to_left)\n",
        "  return absolute_difference\n",
        "\n",
        "\n",
        "# Generate a 3x3 matrix filled with random integers between 0 and 9\n",
        "random_matrix = np.random.randint(10, size=(3, 3))\n",
        "\n",
        "print(random_matrix)\n",
        "\n",
        "diagonalDifference(random_matrix)"
      ],
      "metadata": {
        "colab": {
          "base_uri": "https://localhost:8080/"
        },
        "id": "LpF4pAIk4jJJ",
        "outputId": "1e46aabc-6cae-4fcd-d678-a7e1ad9cba8d"
      },
      "execution_count": 23,
      "outputs": [
        {
          "output_type": "stream",
          "name": "stdout",
          "text": [
            "[[5 2 4]\n",
            " [9 8 7]\n",
            " [1 5 5]]\n"
          ]
        },
        {
          "output_type": "execute_result",
          "data": {
            "text/plain": [
              "5"
            ]
          },
          "metadata": {},
          "execution_count": 23
        }
      ]
    },
    {
      "cell_type": "code",
      "source": [],
      "metadata": {
        "id": "K4lB2es3WzUh"
      },
      "execution_count": null,
      "outputs": []
    }
  ]
}