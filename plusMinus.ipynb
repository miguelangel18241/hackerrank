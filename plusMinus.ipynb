{
  "nbformat": 4,
  "nbformat_minor": 0,
  "metadata": {
    "colab": {
      "provenance": [],
      "authorship_tag": "ABX9TyPi9zvs75uc4lOQDxh4k3XZ",
      "include_colab_link": true
    },
    "kernelspec": {
      "name": "python3",
      "display_name": "Python 3"
    },
    "language_info": {
      "name": "python"
    }
  },
  "cells": [
    {
      "cell_type": "markdown",
      "metadata": {
        "id": "view-in-github",
        "colab_type": "text"
      },
      "source": [
        "<a href=\"https://colab.research.google.com/github/miguelangel18241/hackerrank/blob/main/plusMinus.ipynb\" target=\"_parent\"><img src=\"https://colab.research.google.com/assets/colab-badge.svg\" alt=\"Open In Colab\"/></a>"
      ]
    },
    {
      "cell_type": "code",
      "execution_count": 5,
      "metadata": {
        "colab": {
          "base_uri": "https://localhost:8080/"
        },
        "id": "PvpTXjD5pznF",
        "outputId": "071a1c1b-1ced-4d09-9636-97a52be54891"
      },
      "outputs": [
        {
          "output_type": "stream",
          "name": "stdout",
          "text": [
            "0.500000\n",
            "0.333333\n",
            "0.166667\n"
          ]
        }
      ],
      "source": [
        "def plusminus(x):\n",
        "  positive = 0\n",
        "  negative = 0\n",
        "  zero = 0\n",
        "  for i in range(len(x)):\n",
        "    if x[i] < 0:\n",
        "      negative+= 1\n",
        "    elif x[i] > 0:\n",
        "      positive+= 1\n",
        "    else:\n",
        "      zero+= 1\n",
        "  print(format(positive/len(x), \".6f\"))\n",
        "  print(format(negative/len(x), \".6f\"))\n",
        "  print(format(zero/len(x),\".6f\"))\n",
        "\n",
        "arr = [-4, 3, -9, 0, 4, 1]\n",
        "\n",
        "plusminus(arr)\n",
        "\n",
        "\n",
        "\n"
      ]
    }
  ]
}