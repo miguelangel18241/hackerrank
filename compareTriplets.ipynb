{
  "nbformat": 4,
  "nbformat_minor": 0,
  "metadata": {
    "colab": {
      "provenance": [],
      "authorship_tag": "ABX9TyNgsrICb8WeWKglpYtN5fYP",
      "include_colab_link": true
    },
    "kernelspec": {
      "name": "python3",
      "display_name": "Python 3"
    },
    "language_info": {
      "name": "python"
    }
  },
  "cells": [
    {
      "cell_type": "markdown",
      "metadata": {
        "id": "view-in-github",
        "colab_type": "text"
      },
      "source": [
        "<a href=\"https://colab.research.google.com/github/miguelangel18241/hackerrank/blob/main/compareTriplets.ipynb\" target=\"_parent\"><img src=\"https://colab.research.google.com/assets/colab-badge.svg\" alt=\"Open In Colab\"/></a>"
      ]
    },
    {
      "cell_type": "code",
      "source": [
        "import random\n",
        "for i in range(1,3):\n",
        "  scores_bob = [random.randint(1,10) for _ in range(3)]\n",
        "  print(scores_bob)"
      ],
      "metadata": {
        "colab": {
          "base_uri": "https://localhost:8080/"
        },
        "id": "G7cG-SxDtsuZ",
        "outputId": "ac7da0ee-426c-4e38-8440-07eb7b4cfabd"
      },
      "execution_count": 7,
      "outputs": [
        {
          "output_type": "stream",
          "name": "stdout",
          "text": [
            "[1, 8, 5]\n",
            "[10, 6, 1]\n"
          ]
        }
      ]
    },
    {
      "cell_type": "code",
      "execution_count": 18,
      "metadata": {
        "colab": {
          "base_uri": "https://localhost:8080/"
        },
        "id": "9ECsNrRVpaze",
        "outputId": "87d979d8-1c66-4eb7-af55-3674950d180c"
      },
      "outputs": [
        {
          "output_type": "stream",
          "name": "stdout",
          "text": [
            "[7, 6, 4] [5, 7, 2]\n"
          ]
        },
        {
          "output_type": "execute_result",
          "data": {
            "text/plain": [
              "[2, 1]"
            ]
          },
          "metadata": {},
          "execution_count": 18
        }
      ],
      "source": [
        "\n",
        "\n",
        "#func to find rating winner\n",
        "def compareTriplets(a,b):\n",
        "  alice_score = []\n",
        "  bob_score = []\n",
        "  for i in range(len(a)):\n",
        "    if a[i] > b[i]:\n",
        "      alice_score.append(1)\n",
        "    elif a[i] < b[i]:\n",
        "      bob_score.append(1)\n",
        "    else:\n",
        "      alice_score =alice_score\n",
        "      bob_score= bob_score\n",
        "  return [sum(alice_score), sum(bob_score)]\n",
        "\n",
        "\n",
        "\n",
        "for i in range(1,3):\n",
        "  scores_bob = [random.randint(1,10) for _ in range(3)]\n",
        "\n",
        "\n",
        "alice = [random.randint(1,10) for _ in range(3)]\n",
        "bob = [random.randint(1,10) for _ in range(3)]\n",
        "\n",
        "print(alice, bob)\n",
        "\n",
        "compareTriplets(alice, bob)\n",
        "\n"
      ]
    }
  ]
}